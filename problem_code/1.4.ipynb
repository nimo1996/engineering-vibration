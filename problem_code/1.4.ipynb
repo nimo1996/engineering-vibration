{
 "cells": [
  {
   "cell_type": "code",
   "execution_count": 1,
   "id": "7ca451be-a7ca-48e2-b909-927aa4ce0cb0",
   "metadata": {},
   "outputs": [],
   "source": [
    "import numpy as np\n",
    "import pandas as pd\n",
    "import matplotlib.pyplot as plt\n",
    "\n",
    "m = [10, 11, 12, 13, 14, 15, 16]\n",
    "x = [1.14,1.25,1.37,1.48,1.59,1.71,1.82]\n",
    "\n",
    "m = np.array(m)\n",
    "x = np.array(x)\n",
    "\n",
    "# m*9.81 = k*x\n",
    "k = m*9.81/x\n",
    "\n",
    "Data = pd.DataFrame({'m(kg)':m, 'x(m)':x, 'k(N/m)':k})"
   ]
  },
  {
   "cell_type": "code",
   "execution_count": 2,
   "id": "c4eeed54-cd90-4ba2-b359-8ab851ce113d",
   "metadata": {},
   "outputs": [
    {
     "data": {
      "text/html": [
       "<div>\n",
       "<style scoped>\n",
       "    .dataframe tbody tr th:only-of-type {\n",
       "        vertical-align: middle;\n",
       "    }\n",
       "\n",
       "    .dataframe tbody tr th {\n",
       "        vertical-align: top;\n",
       "    }\n",
       "\n",
       "    .dataframe thead th {\n",
       "        text-align: right;\n",
       "    }\n",
       "</style>\n",
       "<table border=\"1\" class=\"dataframe\">\n",
       "  <thead>\n",
       "    <tr style=\"text-align: right;\">\n",
       "      <th></th>\n",
       "      <th>m(kg)</th>\n",
       "      <th>x(m)</th>\n",
       "      <th>k(N/m)</th>\n",
       "    </tr>\n",
       "  </thead>\n",
       "  <tbody>\n",
       "    <tr>\n",
       "      <th>0</th>\n",
       "      <td>10</td>\n",
       "      <td>1.14</td>\n",
       "      <td>86.052632</td>\n",
       "    </tr>\n",
       "    <tr>\n",
       "      <th>1</th>\n",
       "      <td>11</td>\n",
       "      <td>1.25</td>\n",
       "      <td>86.328000</td>\n",
       "    </tr>\n",
       "    <tr>\n",
       "      <th>2</th>\n",
       "      <td>12</td>\n",
       "      <td>1.37</td>\n",
       "      <td>85.927007</td>\n",
       "    </tr>\n",
       "    <tr>\n",
       "      <th>3</th>\n",
       "      <td>13</td>\n",
       "      <td>1.48</td>\n",
       "      <td>86.168919</td>\n",
       "    </tr>\n",
       "    <tr>\n",
       "      <th>4</th>\n",
       "      <td>14</td>\n",
       "      <td>1.59</td>\n",
       "      <td>86.377358</td>\n",
       "    </tr>\n",
       "    <tr>\n",
       "      <th>5</th>\n",
       "      <td>15</td>\n",
       "      <td>1.71</td>\n",
       "      <td>86.052632</td>\n",
       "    </tr>\n",
       "    <tr>\n",
       "      <th>6</th>\n",
       "      <td>16</td>\n",
       "      <td>1.82</td>\n",
       "      <td>86.241758</td>\n",
       "    </tr>\n",
       "  </tbody>\n",
       "</table>\n",
       "</div>"
      ],
      "text/plain": [
       "   m(kg)  x(m)     k(N/m)\n",
       "0     10  1.14  86.052632\n",
       "1     11  1.25  86.328000\n",
       "2     12  1.37  85.927007\n",
       "3     13  1.48  86.168919\n",
       "4     14  1.59  86.377358\n",
       "5     15  1.71  86.052632\n",
       "6     16  1.82  86.241758"
      ]
     },
     "execution_count": 2,
     "metadata": {},
     "output_type": "execute_result"
    }
   ],
   "source": [
    "Data"
   ]
  },
  {
   "cell_type": "code",
   "execution_count": 3,
   "id": "59ffd632-6d23-4208-996e-27d5b0371b27",
   "metadata": {},
   "outputs": [
    {
     "data": {
      "text/plain": [
       "0.15093033523072502"
      ]
     },
     "execution_count": 3,
     "metadata": {},
     "output_type": "execute_result"
    }
   ],
   "source": [
    "# 표준편차 \n",
    "np.std(Data['k(N/m)'])"
   ]
  },
  {
   "cell_type": "code",
   "execution_count": 4,
   "id": "c1b22421-e4aa-4642-b660-b7af4a1348f5",
   "metadata": {},
   "outputs": [
    {
     "data": {
      "text/plain": [
       "Text(0, 0.5, 'm(kg)')"
      ]
     },
     "execution_count": 4,
     "metadata": {},
     "output_type": "execute_result"
    },
    {
     "data": {
      "image/png": "[encoded data removed]",
      "text/plain": [
       "<Figure size 432x288 with 1 Axes>"
      ]
     },
     "metadata": {
      "needs_background": "light"
     },
     "output_type": "display_data"
    }
   ],
   "source": [
    "# 그래프\n",
    "plt.plot(x, m, '-.')\n",
    "plt.xlabel('x(m)')\n",
    "plt.ylabel('m(kg)')"
   ]
  },
  {
   "cell_type": "code",
   "execution_count": null,
   "id": "2666b8d0-c6f8-48d3-8892-4733f6f4e6cc",
   "metadata": {},
   "outputs": [],
   "source": []
  }
 ],
 "metadata": {
  "kernelspec": {
   "display_name": "Python 3",
   "language": "python",
   "name": "python3"
  },
  "language_info": {
   "codemirror_mode": {
    "name": "ipython",
    "version": 3
   },
   "file_extension": ".py",
   "mimetype": "text/x-python",
   "name": "python",
   "nbconvert_exporter": "python",
   "pygments_lexer": "ipython3",
   "version": "3.8.8"
  }
 },
 "nbformat": 4,
 "nbformat_minor": 5
}
